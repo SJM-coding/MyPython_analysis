{
 "cells": [
  {
   "cell_type": "code",
   "execution_count": 41,
   "metadata": {},
   "outputs": [
    {
     "data": {
      "text/html": [
       "<img src=\"https://thumbnews.nateimg.co.kr/news90///news.nateimg.co.kr/orgImg/jt/2025/04/09/20250409182110314001.jpg\"/>"
      ],
      "text/plain": [
       "<IPython.core.display.Image object>"
      ]
     },
     "metadata": {},
     "output_type": "display_data"
    },
    {
     "name": "stdout",
     "output_type": "stream",
     "text": [
      "\"기소되면?\" 묻자 \"절대\"…'내란 피의자 이완규' 지명 후폭풍\n",
      "https://news.nate.com/view/20250409n36248?mid=n0200\n",
      "\n",
      "\n"
     ]
    },
    {
     "data": {
      "text/html": [
       "<img src=\"https://thumbnews.nateimg.co.kr/news90///news.nateimg.co.kr/orgImg/ae/2025/04/09/ae_1744182726915_812413_0.jpg\"/>"
      ],
      "text/plain": [
       "<IPython.core.display.Image object>"
      ]
     },
     "metadata": {},
     "output_type": "display_data"
    },
    {
     "name": "stdout",
     "output_type": "stream",
     "text": [
      "오세훈 13일 대선 출사표…\"죄송한 마음에 결심 늦었다\"(종합)\n",
      "https://news.nate.com/view/20250409n29780?mid=n0200\n",
      "\n",
      "\n"
     ]
    },
    {
     "data": {
      "text/html": [
       "<img src=\"https://thumbnews.nateimg.co.kr/news90///news.nateimg.co.kr/orgImg/sg/2025/04/09/20250318517251.jpg\"/>"
      ],
      "text/plain": [
       "<IPython.core.display.Image object>"
      ]
     },
     "metadata": {},
     "output_type": "display_data"
    },
    {
     "name": "stdout",
     "output_type": "stream",
     "text": [
      "검찰, '명태균 처남 채용 의혹' 경남평생교육진흥원 압수수색\n",
      "https://news.nate.com/view/20250409n34600?mid=n0200\n",
      "\n",
      "\n"
     ]
    },
    {
     "data": {
      "text/html": [
       "<img src=\"https://thumbnews.nateimg.co.kr/news90///news.nateimg.co.kr/orgImg/kh/2025/04/09/news-p.v1.20250409.5e2f4a39764c4ace970a94b81abf9f3e_P1.jpg\"/>"
      ],
      "text/plain": [
       "<IPython.core.display.Image object>"
      ]
     },
     "metadata": {},
     "output_type": "display_data"
    },
    {
     "name": "stdout",
     "output_type": "stream",
     "text": [
      "[단독]경호처, '윤석열 체포 저지' 반대 간부 해임징계 한덕수에 제청\n",
      "https://news.nate.com/view/20250409n33483?mid=n0200\n",
      "\n",
      "\n"
     ]
    },
    {
     "data": {
      "text/html": [
       "<img src=\"https://thumbnews.nateimg.co.kr/news90///news.nateimg.co.kr/orgImg/na/2025/04/09/6717921_high.jpg\"/>"
      ],
      "text/plain": [
       "<IPython.core.display.Image object>"
      ]
     },
     "metadata": {},
     "output_type": "display_data"
    },
    {
     "name": "stdout",
     "output_type": "stream",
     "text": [
      "'훈련병 사망' 중대장·부중대장, 항소심서도 무죄 주장\n",
      "https://news.nate.com/view/20250409n30984?mid=n0200\n",
      "\n",
      "\n"
     ]
    },
    {
     "data": {
      "text/html": [
       "<img src=\"https://thumbnews.nateimg.co.kr/news90///news.nateimg.co.kr/orgImg/hk/2025/04/09/ZN.40098378.1.jpg\"/>"
      ],
      "text/plain": [
       "<IPython.core.display.Image object>"
      ]
     },
     "metadata": {},
     "output_type": "display_data"
    },
    {
     "name": "stdout",
     "output_type": "stream",
     "text": [
      "권성동 \"윤석열·이재명 동시 퇴장이 시대의 명령\"\n",
      "https://news.nate.com/view/20250409n27024?mid=n0200\n",
      "\n",
      "\n"
     ]
    },
    {
     "data": {
      "text/html": [
       "<img src=\"https://thumbnews.nateimg.co.kr/news90///news.nateimg.co.kr/orgImg/hr/2025/04/09/news-p.v1.20250409.596e6ba70b4d458c8fdd7131611755c9_P1.jpg\"/>"
      ],
      "text/plain": [
       "<IPython.core.display.Image object>"
      ]
     },
     "metadata": {},
     "output_type": "display_data"
    },
    {
     "name": "stdout",
     "output_type": "stream",
     "text": [
      "'대선 시동' 이재명, 8년 만의 단독 저서 '결국 국민이 합니다' 출간\n",
      "https://news.nate.com/view/20250409n22374?mid=n0200\n",
      "\n",
      "\n"
     ]
    },
    {
     "data": {
      "text/html": [
       "<img src=\"https://thumbnews.nateimg.co.kr/news90///news.nateimg.co.kr/orgImg/na/2025/04/09/7039716_high.jpg\"/>"
      ],
      "text/plain": [
       "<IPython.core.display.Image object>"
      ]
     },
     "metadata": {},
     "output_type": "display_data"
    },
    {
     "name": "stdout",
     "output_type": "stream",
     "text": [
      "우원식 \"인사청문 요청 접수 않겠다\"…법조계 보이콧엔 회의적\n",
      "https://news.nate.com/view/20250409n26089?mid=n0200\n",
      "\n",
      "\n"
     ]
    },
    {
     "data": {
      "text/html": [
       "<img src=\"https://thumbnews.nateimg.co.kr/news90///news.nateimg.co.kr/orgImg/jo/2025/04/09/eb83e4e1-a3de-4979-a507-317af3c56392.jpg\"/>"
      ],
      "text/plain": [
       "<IPython.core.display.Image object>"
      ]
     },
     "metadata": {},
     "output_type": "display_data"
    },
    {
     "name": "stdout",
     "output_type": "stream",
     "text": [
      "국힘 대선 후보군 벌써 15명…'절대 강자' 없자 너도나도 \"출마\"\n",
      "https://news.nate.com/view/20250409n23624?mid=n0200\n",
      "\n",
      "\n"
     ]
    },
    {
     "data": {
      "text/html": [
       "<img src=\"https://thumbnews.nateimg.co.kr/news90///news.nateimg.co.kr/orgImg/fn/2025/04/09/202504091410120064_l.jpg\"/>"
      ],
      "text/plain": [
       "<IPython.core.display.Image object>"
      ]
     },
     "metadata": {},
     "output_type": "display_data"
    },
    {
     "name": "stdout",
     "output_type": "stream",
     "text": [
      "이철우 \"이재명 이길 새 인물…새로운 박정희 되겠다\"\n",
      "https://news.nate.com/view/20250409n23037?mid=n0200\n",
      "\n",
      "\n"
     ]
    },
    {
     "data": {
      "text/html": [
       "<img src=\"https://thumbnews.nateimg.co.kr/news90///news.nateimg.co.kr/orgImg/hi/2025/04/09/6f8d1ae0-ae90-4cbd-9db0-756d642054c5.jpg\"/>"
      ],
      "text/plain": [
       "<IPython.core.display.Image object>"
      ]
     },
     "metadata": {},
     "output_type": "display_data"
    },
    {
     "name": "stdout",
     "output_type": "stream",
     "text": [
      "김두관 \"국회 분원·대통령실 부지 있는 세종…수도 이전 충분히 가능\"\n",
      "https://news.nate.com/view/20250409n16582?mid=n0200\n",
      "\n",
      "\n"
     ]
    },
    {
     "data": {
      "text/html": [
       "<img src=\"https://thumbnews.nateimg.co.kr/news90///news.nateimg.co.kr/orgImg/se/2025/04/09/2GRGE4HZ8C_3.jpg\"/>"
      ],
      "text/plain": [
       "<IPython.core.display.Image object>"
      ]
     },
     "metadata": {},
     "output_type": "display_data"
    },
    {
     "name": "stdout",
     "output_type": "stream",
     "text": [
      "김문수 \"위대한 대한민국 이룰 것\"…현충원 찾아 본격 대선 모드\n",
      "https://news.nate.com/view/20250409n21665?mid=n0200\n",
      "\n",
      "\n"
     ]
    },
    {
     "data": {
      "text/html": [
       "<img src=\"https://thumbnews.nateimg.co.kr/news90///news.nateimg.co.kr/orgImg/mh/2025/04/09/2025040901039927042002_b.jpg\"/>"
      ],
      "text/plain": [
       "<IPython.core.display.Image object>"
      ]
     },
     "metadata": {},
     "output_type": "display_data"
    },
    {
     "name": "stdout",
     "output_type": "stream",
     "text": [
      "김동연이 밝힌 '3무3유 선거운동'…\"국민이 계파이고 조직\"\n",
      "https://news.nate.com/view/20250409n21326?mid=n0200\n",
      "\n",
      "\n"
     ]
    },
    {
     "data": {
      "text/html": [
       "<img src=\"https://thumbnews.nateimg.co.kr/news90///news.nateimg.co.kr/orgImg/mt/2025/04/09/2025040911492117554_1.jpg\"/>"
      ],
      "text/plain": [
       "<IPython.core.display.Image object>"
      ]
     },
     "metadata": {},
     "output_type": "display_data"
    },
    {
     "name": "stdout",
     "output_type": "stream",
     "text": [
      "'막차' 타고 대구 간 이준석…\"이재명 대권 목전…이기는 선택 되겠다\"\n",
      "https://news.nate.com/view/20250409n20281?mid=n0200\n",
      "\n",
      "\n"
     ]
    },
    {
     "data": {
      "text/html": [
       "<img src=\"https://thumbnews.nateimg.co.kr/news90///news.nateimg.co.kr/orgImg/na/2025/04/09/7226064_high.jpg\"/>"
      ],
      "text/plain": [
       "<IPython.core.display.Image object>"
      ]
     },
     "metadata": {},
     "output_type": "display_data"
    },
    {
     "name": "stdout",
     "output_type": "stream",
     "text": [
      "황교안, 국힘 탈당 대선 출마 \"부정선거 척결…尹 응원 받아\"\n",
      "https://news.nate.com/view/20250409n19177?mid=n0200\n",
      "\n",
      "\n"
     ]
    }
   ],
   "source": [
    "import requests\n",
    "from bs4 import BeautifulSoup\n",
    "from urllib.parse import urljoin\n",
    "from IPython.display import Image, display\n",
    "# div > a href > span > img src\n",
    "#              > span > title\n",
    "def print_news(sid):\n",
    "    section_dict = {\n",
    "        \"최신뉴스\": \"0100\",\n",
    "        \"정치\": \"0200\",\n",
    "        \"경제\": \"0300\",\n",
    "        \"사회\": \"0400\",\n",
    "        \"세계\": \"0500\",\n",
    "        \"IT/과학\": \"0600\"\n",
    "    }\n",
    "\n",
    "   \n",
    "    headers = {\n",
    "        \"User-Agent\": \"Mozilla/5.0 (Macintosh; Intel Mac OS X 10_15_7) AppleWebKit/537.36 (KHTML, like Gecko) Chrome/133.0.0.0 Safari/537.36\"\n",
    "    }\n",
    "    \n",
    "    section = section_dict[sid]\n",
    "    url = f\"https://news.nate.com/section?mid=n{section}\"\n",
    "    res = requests.get(url, headers=headers)\n",
    "    \n",
    "    res.encoding = 'euc-kr'\n",
    "    if res.ok:\n",
    "        soup = BeautifulSoup(res.text, \"html.parser\")\n",
    "        articles = soup.select('div.mlt01')\n",
    "        \n",
    "        for article in articles:\n",
    "       # 이미지 출력 - 이미지 존재여부 확인후 \n",
    "            # print(article)\n",
    "            image_Tag = article.select_one(\"img\")\n",
    "            if image_Tag and \"src\" in image_Tag.attrs:\n",
    "                img_url = urljoin(url, image_Tag[\"src\"])\n",
    "                display(Image(url=img_url))\n",
    "            else:\n",
    "                img_url = None\n",
    "                \n",
    "            title_Tag = article.select_one(\"h2.tit\")\n",
    "            title = title_Tag.text.strip() if title_Tag else \"(제목 없음)\"\n",
    "            print(title)\n",
    "       #기사링크\n",
    "            a_Tag = article.select_one(\"a.lt1\")\n",
    "            if a_Tag:\n",
    "                link = urljoin(url,a_Tag[\"href\"])\n",
    "            print(link)\n",
    "            print(\"\\n\")\n",
    "    else:\n",
    "        print(f\"[ERROR] 응답 실패: {res.status_code}\")\n",
    "\n",
    "\n",
    "\n",
    "print_news(\"정치\")\n"
   ]
  },
  {
   "cell_type": "code",
   "execution_count": null,
   "metadata": {},
   "outputs": [],
   "source": []
  }
 ],
 "metadata": {
  "kernelspec": {
   "display_name": "base",
   "language": "python",
   "name": "python3"
  },
  "language_info": {
   "codemirror_mode": {
    "name": "ipython",
    "version": 3
   },
   "file_extension": ".py",
   "mimetype": "text/x-python",
   "name": "python",
   "nbconvert_exporter": "python",
   "pygments_lexer": "ipython3",
   "version": "3.12.7"
  }
 },
 "nbformat": 4,
 "nbformat_minor": 2
}
